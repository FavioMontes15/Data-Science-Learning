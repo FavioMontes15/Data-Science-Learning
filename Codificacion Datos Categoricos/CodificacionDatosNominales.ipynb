{
 "cells": [
  {
   "cell_type": "code",
   "execution_count": 2,
   "id": "c9f4270b-b79d-4495-9525-3f3fd2285681",
   "metadata": {},
   "outputs": [
    {
     "data": {
      "text/html": [
       "<div>\n",
       "<style scoped>\n",
       "    .dataframe tbody tr th:only-of-type {\n",
       "        vertical-align: middle;\n",
       "    }\n",
       "\n",
       "    .dataframe tbody tr th {\n",
       "        vertical-align: top;\n",
       "    }\n",
       "\n",
       "    .dataframe thead th {\n",
       "        text-align: right;\n",
       "    }\n",
       "</style>\n",
       "<table border=\"1\" class=\"dataframe\">\n",
       "  <thead>\n",
       "    <tr style=\"text-align: right;\">\n",
       "      <th></th>\n",
       "      <th>nombre</th>\n",
       "      <th>saldo</th>\n",
       "      <th>pais</th>\n",
       "    </tr>\n",
       "  </thead>\n",
       "  <tbody>\n",
       "    <tr>\n",
       "      <th>0</th>\n",
       "      <td>Mariana</td>\n",
       "      <td>10000.0</td>\n",
       "      <td>Argentina</td>\n",
       "    </tr>\n",
       "    <tr>\n",
       "      <th>1</th>\n",
       "      <td>Ana</td>\n",
       "      <td>8000.0</td>\n",
       "      <td>Bolivia</td>\n",
       "    </tr>\n",
       "    <tr>\n",
       "      <th>2</th>\n",
       "      <td>Elsa</td>\n",
       "      <td>9000.0</td>\n",
       "      <td>Chile</td>\n",
       "    </tr>\n",
       "    <tr>\n",
       "      <th>3</th>\n",
       "      <td>Gustavo</td>\n",
       "      <td>2000.0</td>\n",
       "      <td>Colombia</td>\n",
       "    </tr>\n",
       "    <tr>\n",
       "      <th>4</th>\n",
       "      <td>Pedro</td>\n",
       "      <td>2100.0</td>\n",
       "      <td>Costa Rica</td>\n",
       "    </tr>\n",
       "    <tr>\n",
       "      <th>5</th>\n",
       "      <td>Raul</td>\n",
       "      <td>12000.0</td>\n",
       "      <td>Ecuador</td>\n",
       "    </tr>\n",
       "    <tr>\n",
       "      <th>6</th>\n",
       "      <td>Carlos</td>\n",
       "      <td>5000.0</td>\n",
       "      <td>Mexico</td>\n",
       "    </tr>\n",
       "    <tr>\n",
       "      <th>7</th>\n",
       "      <td>Jose</td>\n",
       "      <td>10000.0</td>\n",
       "      <td>Peru</td>\n",
       "    </tr>\n",
       "    <tr>\n",
       "      <th>8</th>\n",
       "      <td>Luis</td>\n",
       "      <td>200.0</td>\n",
       "      <td>Peru</td>\n",
       "    </tr>\n",
       "  </tbody>\n",
       "</table>\n",
       "</div>"
      ],
      "text/plain": [
       "    nombre    saldo        pais\n",
       "0  Mariana  10000.0   Argentina\n",
       "1      Ana   8000.0     Bolivia\n",
       "2     Elsa   9000.0       Chile\n",
       "3  Gustavo   2000.0    Colombia\n",
       "4    Pedro   2100.0  Costa Rica\n",
       "5     Raul  12000.0     Ecuador\n",
       "6   Carlos   5000.0      Mexico\n",
       "7     Jose  10000.0        Peru\n",
       "8     Luis    200.0        Peru"
      ]
     },
     "execution_count": 2,
     "metadata": {},
     "output_type": "execute_result"
    }
   ],
   "source": [
    "import pandas as pd\n",
    "\n",
    "datos={'nombre':['Mariana','Ana','Elsa','Gustavo',\n",
    "                 'Pedro','Raul','Carlos','Jose','Luis'],\n",
    "       'saldo':[10000.00,8000.00,9000.00,2000.00,\n",
    "                2100.00,12000.00,5000.00,10000.00,200.00],\n",
    "       'pais':['Argentina','Bolivia','Chile','Colombia',\n",
    "               'Costa Rica','Ecuador','Mexico','Peru','Peru']}\n",
    "datos=pd.DataFrame(datos)\n",
    "datos"
   ]
  },
  {
   "cell_type": "code",
   "execution_count": 3,
   "id": "b76367fa-f805-4b64-b2f8-8e2157a886f7",
   "metadata": {},
   "outputs": [
    {
     "name": "stdout",
     "output_type": "stream",
     "text": [
      "<class 'pandas.core.frame.DataFrame'>\n",
      "RangeIndex: 9 entries, 0 to 8\n",
      "Data columns (total 3 columns):\n",
      " #   Column  Non-Null Count  Dtype  \n",
      "---  ------  --------------  -----  \n",
      " 0   nombre  9 non-null      object \n",
      " 1   saldo   9 non-null      float64\n",
      " 2   pais    9 non-null      object \n",
      "dtypes: float64(1), object(2)\n",
      "memory usage: 348.0+ bytes\n"
     ]
    }
   ],
   "source": [
    "datos.info()"
   ]
  },
  {
   "cell_type": "code",
   "execution_count": 7,
   "id": "68af387f-e59b-4e0c-9ce5-513165ae0431",
   "metadata": {},
   "outputs": [
    {
     "name": "stdout",
     "output_type": "stream",
     "text": [
      "<class 'pandas.core.frame.DataFrame'>\n",
      "RangeIndex: 9 entries, 0 to 8\n",
      "Data columns (total 3 columns):\n",
      " #   Column  Non-Null Count  Dtype   \n",
      "---  ------  --------------  -----   \n",
      " 0   nombre  9 non-null      object  \n",
      " 1   saldo   9 non-null      float64 \n",
      " 2   pais    9 non-null      category\n",
      "dtypes: category(1), float64(1), object(1)\n",
      "memory usage: 649.0+ bytes\n"
     ]
    }
   ],
   "source": [
    "datos['pais']=datos['pais'].astype('category')\n",
    "datos.info()"
   ]
  },
  {
   "cell_type": "code",
   "execution_count": 58,
   "id": "c93fcd19-54e9-4788-800b-3aec933be735",
   "metadata": {},
   "outputs": [
    {
     "data": {
      "text/plain": [
       "0     Argentina\n",
       "1       Bolivia\n",
       "2         Chile\n",
       "3      Colombia\n",
       "4    Costa Rica\n",
       "5       Ecuador\n",
       "6        Mexico\n",
       "7          Peru\n",
       "8          Peru\n",
       "Name: pais, dtype: category\n",
       "Categories (8, object): ['Argentina', 'Bolivia', 'Chile', 'Colombia', 'Costa Rica', 'Ecuador', 'Mexico', 'Peru']"
      ]
     },
     "execution_count": 58,
     "metadata": {},
     "output_type": "execute_result"
    }
   ],
   "source": [
    "datos['pais']"
   ]
  },
  {
   "cell_type": "markdown",
   "id": "55028197-b051-4637-84a6-73eec76704ac",
   "metadata": {},
   "source": [
    "<h2>Codificacion de Categoria One-hot</h2>"
   ]
  },
  {
   "cell_type": "markdown",
   "id": "5b7851dc-e5f9-4127-8e3f-3a9d485a9ee0",
   "metadata": {},
   "source": [
    "<h3>Los datos Nominales : No tienen orden logico o jerarquico</h3>\n",
    "<p>Ejemplos: Colores, Genero, Ciudad.</p>\n",
    "<b>El modelo no debe asumir ningun tipo de orden en estas categorias.</b>"
   ]
  },
  {
   "cell_type": "code",
   "execution_count": 59,
   "id": "88deee62-a4e6-4b1a-8258-d08fe140cae9",
   "metadata": {},
   "outputs": [],
   "source": [
    "from sklearn.preprocessing import OneHotEncoder\n",
    "encoder=OneHotEncoder(sparse_output=False)\n",
    "#Ajustar y transformar\n",
    "encoded_array=encoder.fit_transform(datos[['pais']])"
   ]
  },
  {
   "cell_type": "code",
   "execution_count": 60,
   "id": "b8138b0e-8999-4a21-9a80-37358da08049",
   "metadata": {},
   "outputs": [
    {
     "name": "stdout",
     "output_type": "stream",
     "text": [
      "<class 'numpy.ndarray'>\n",
      "[[1. 0. 0. 0. 0. 0. 0. 0.]\n",
      " [0. 1. 0. 0. 0. 0. 0. 0.]\n",
      " [0. 0. 1. 0. 0. 0. 0. 0.]\n",
      " [0. 0. 0. 1. 0. 0. 0. 0.]\n",
      " [0. 0. 0. 0. 1. 0. 0. 0.]\n",
      " [0. 0. 0. 0. 0. 1. 0. 0.]\n",
      " [0. 0. 0. 0. 0. 0. 1. 0.]\n",
      " [0. 0. 0. 0. 0. 0. 0. 1.]\n",
      " [0. 0. 0. 0. 0. 0. 0. 1.]]\n"
     ]
    }
   ],
   "source": [
    "print(type(encoded_array))\n",
    "print(encoded_array)"
   ]
  },
  {
   "cell_type": "code",
   "execution_count": 63,
   "id": "6cc9bf87-ab1d-4b29-a905-44e591ed353f",
   "metadata": {},
   "outputs": [],
   "source": [
    "encoded_datos=pd.DataFrame(\n",
    "    encoded_array,columns=encoder.get_feature_names_out(['pais'])\n",
    ")"
   ]
  },
  {
   "cell_type": "code",
   "execution_count": 67,
   "id": "0678b3d3-6dd3-4517-a420-cd35bd9d07ac",
   "metadata": {},
   "outputs": [],
   "source": [
    "datos_final=pd.concat([datos.drop('pais',axis=1),encoded_datos],axis=1)"
   ]
  },
  {
   "cell_type": "code",
   "execution_count": 68,
   "id": "a3c5a163-07e4-4d9f-a834-561e55561eff",
   "metadata": {},
   "outputs": [
    {
     "data": {
      "text/html": [
       "<div>\n",
       "<style scoped>\n",
       "    .dataframe tbody tr th:only-of-type {\n",
       "        vertical-align: middle;\n",
       "    }\n",
       "\n",
       "    .dataframe tbody tr th {\n",
       "        vertical-align: top;\n",
       "    }\n",
       "\n",
       "    .dataframe thead th {\n",
       "        text-align: right;\n",
       "    }\n",
       "</style>\n",
       "<table border=\"1\" class=\"dataframe\">\n",
       "  <thead>\n",
       "    <tr style=\"text-align: right;\">\n",
       "      <th></th>\n",
       "      <th>nombre</th>\n",
       "      <th>saldo</th>\n",
       "      <th>pais_Argentina</th>\n",
       "      <th>pais_Bolivia</th>\n",
       "      <th>pais_Chile</th>\n",
       "      <th>pais_Colombia</th>\n",
       "      <th>pais_Costa Rica</th>\n",
       "      <th>pais_Ecuador</th>\n",
       "      <th>pais_Mexico</th>\n",
       "      <th>pais_Peru</th>\n",
       "    </tr>\n",
       "  </thead>\n",
       "  <tbody>\n",
       "    <tr>\n",
       "      <th>0</th>\n",
       "      <td>Mariana</td>\n",
       "      <td>10000.0</td>\n",
       "      <td>1.0</td>\n",
       "      <td>0.0</td>\n",
       "      <td>0.0</td>\n",
       "      <td>0.0</td>\n",
       "      <td>0.0</td>\n",
       "      <td>0.0</td>\n",
       "      <td>0.0</td>\n",
       "      <td>0.0</td>\n",
       "    </tr>\n",
       "    <tr>\n",
       "      <th>1</th>\n",
       "      <td>Ana</td>\n",
       "      <td>8000.0</td>\n",
       "      <td>0.0</td>\n",
       "      <td>1.0</td>\n",
       "      <td>0.0</td>\n",
       "      <td>0.0</td>\n",
       "      <td>0.0</td>\n",
       "      <td>0.0</td>\n",
       "      <td>0.0</td>\n",
       "      <td>0.0</td>\n",
       "    </tr>\n",
       "    <tr>\n",
       "      <th>2</th>\n",
       "      <td>Elsa</td>\n",
       "      <td>9000.0</td>\n",
       "      <td>0.0</td>\n",
       "      <td>0.0</td>\n",
       "      <td>1.0</td>\n",
       "      <td>0.0</td>\n",
       "      <td>0.0</td>\n",
       "      <td>0.0</td>\n",
       "      <td>0.0</td>\n",
       "      <td>0.0</td>\n",
       "    </tr>\n",
       "    <tr>\n",
       "      <th>3</th>\n",
       "      <td>Gustavo</td>\n",
       "      <td>2000.0</td>\n",
       "      <td>0.0</td>\n",
       "      <td>0.0</td>\n",
       "      <td>0.0</td>\n",
       "      <td>1.0</td>\n",
       "      <td>0.0</td>\n",
       "      <td>0.0</td>\n",
       "      <td>0.0</td>\n",
       "      <td>0.0</td>\n",
       "    </tr>\n",
       "    <tr>\n",
       "      <th>4</th>\n",
       "      <td>Pedro</td>\n",
       "      <td>2100.0</td>\n",
       "      <td>0.0</td>\n",
       "      <td>0.0</td>\n",
       "      <td>0.0</td>\n",
       "      <td>0.0</td>\n",
       "      <td>1.0</td>\n",
       "      <td>0.0</td>\n",
       "      <td>0.0</td>\n",
       "      <td>0.0</td>\n",
       "    </tr>\n",
       "    <tr>\n",
       "      <th>5</th>\n",
       "      <td>Raul</td>\n",
       "      <td>12000.0</td>\n",
       "      <td>0.0</td>\n",
       "      <td>0.0</td>\n",
       "      <td>0.0</td>\n",
       "      <td>0.0</td>\n",
       "      <td>0.0</td>\n",
       "      <td>1.0</td>\n",
       "      <td>0.0</td>\n",
       "      <td>0.0</td>\n",
       "    </tr>\n",
       "    <tr>\n",
       "      <th>6</th>\n",
       "      <td>Carlos</td>\n",
       "      <td>5000.0</td>\n",
       "      <td>0.0</td>\n",
       "      <td>0.0</td>\n",
       "      <td>0.0</td>\n",
       "      <td>0.0</td>\n",
       "      <td>0.0</td>\n",
       "      <td>0.0</td>\n",
       "      <td>1.0</td>\n",
       "      <td>0.0</td>\n",
       "    </tr>\n",
       "    <tr>\n",
       "      <th>7</th>\n",
       "      <td>Jose</td>\n",
       "      <td>10000.0</td>\n",
       "      <td>0.0</td>\n",
       "      <td>0.0</td>\n",
       "      <td>0.0</td>\n",
       "      <td>0.0</td>\n",
       "      <td>0.0</td>\n",
       "      <td>0.0</td>\n",
       "      <td>0.0</td>\n",
       "      <td>1.0</td>\n",
       "    </tr>\n",
       "    <tr>\n",
       "      <th>8</th>\n",
       "      <td>Luis</td>\n",
       "      <td>200.0</td>\n",
       "      <td>0.0</td>\n",
       "      <td>0.0</td>\n",
       "      <td>0.0</td>\n",
       "      <td>0.0</td>\n",
       "      <td>0.0</td>\n",
       "      <td>0.0</td>\n",
       "      <td>0.0</td>\n",
       "      <td>1.0</td>\n",
       "    </tr>\n",
       "  </tbody>\n",
       "</table>\n",
       "</div>"
      ],
      "text/plain": [
       "    nombre    saldo  pais_Argentina  pais_Bolivia  pais_Chile  pais_Colombia  \\\n",
       "0  Mariana  10000.0             1.0           0.0         0.0            0.0   \n",
       "1      Ana   8000.0             0.0           1.0         0.0            0.0   \n",
       "2     Elsa   9000.0             0.0           0.0         1.0            0.0   \n",
       "3  Gustavo   2000.0             0.0           0.0         0.0            1.0   \n",
       "4    Pedro   2100.0             0.0           0.0         0.0            0.0   \n",
       "5     Raul  12000.0             0.0           0.0         0.0            0.0   \n",
       "6   Carlos   5000.0             0.0           0.0         0.0            0.0   \n",
       "7     Jose  10000.0             0.0           0.0         0.0            0.0   \n",
       "8     Luis    200.0             0.0           0.0         0.0            0.0   \n",
       "\n",
       "   pais_Costa Rica  pais_Ecuador  pais_Mexico  pais_Peru  \n",
       "0              0.0           0.0          0.0        0.0  \n",
       "1              0.0           0.0          0.0        0.0  \n",
       "2              0.0           0.0          0.0        0.0  \n",
       "3              0.0           0.0          0.0        0.0  \n",
       "4              1.0           0.0          0.0        0.0  \n",
       "5              0.0           1.0          0.0        0.0  \n",
       "6              0.0           0.0          1.0        0.0  \n",
       "7              0.0           0.0          0.0        1.0  \n",
       "8              0.0           0.0          0.0        1.0  "
      ]
     },
     "execution_count": 68,
     "metadata": {},
     "output_type": "execute_result"
    }
   ],
   "source": [
    "datos_final"
   ]
  }
 ],
 "metadata": {
  "kernelspec": {
   "display_name": "Python 3 (ipykernel)",
   "language": "python",
   "name": "python3"
  },
  "language_info": {
   "codemirror_mode": {
    "name": "ipython",
    "version": 3
   },
   "file_extension": ".py",
   "mimetype": "text/x-python",
   "name": "python",
   "nbconvert_exporter": "python",
   "pygments_lexer": "ipython3",
   "version": "3.12.4"
  }
 },
 "nbformat": 4,
 "nbformat_minor": 5
}
