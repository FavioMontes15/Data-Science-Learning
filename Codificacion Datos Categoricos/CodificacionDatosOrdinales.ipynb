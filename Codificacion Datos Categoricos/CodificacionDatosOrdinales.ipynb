{
 "cells": [
  {
   "cell_type": "markdown",
   "id": "5b35743e-8cba-4b16-bc64-d6a1db5dff21",
   "metadata": {},
   "source": [
    "<h2>Datos Ordinales</h2>"
   ]
  },
  {
   "cell_type": "markdown",
   "id": "304bbc9a-b631-479f-81b3-544fc29bc1a4",
   "metadata": {},
   "source": [
    "<B>Si tiene orden logico o jerarquico.</B>\n",
    "<p>Pero la distancia entre las categorias no necesariamente es constante</p>\n",
    "<P><b>Ejemplos</b>: Nivel Educativo, Talla de ropa, Satisfaccion, Calificacion Crediticia.</P>\n",
    "<p>Para estos datos podemos usar <b>LabelEncoder</b> o <b>OrdinalEncoder</b> si el modelo puede interpreta orden.</p>"
   ]
  },
  {
   "cell_type": "code",
   "execution_count": 7,
   "id": "1a881986-1612-4d20-a603-d9ebd20a2809",
   "metadata": {},
   "outputs": [],
   "source": [
    "import pandas as pd\n",
    "import numpy as np\n",
    "\n",
    "categorias_servicio=['Muy insatisfecho','Insatisfecho','Neutral','Satisfecho','Muy satisfecho',]\n",
    "\n",
    "categorias_calidad=['Mala','Buena','Muy Buena','Excelente']\n",
    "\n",
    "encuesta={'servicio':['Muy insatisfecho','Insatisfecho','Neutral','Satisfecho','Muy satisfecho','Muy insatisfecho'],\n",
    "          'alimentos':['Mala','Buena','Muy Buena','Excelente','Mala','Buena']}\n",
    "#0: Cliente esporadico   1:Cliente frecuente\n",
    "tipo_cliente=[0,0,1,1,0,1]         "
   ]
  },
  {
   "cell_type": "code",
   "execution_count": 18,
   "id": "71f89a07-4673-4419-b9c6-ca2f93734c03",
   "metadata": {},
   "outputs": [
    {
     "data": {
      "text/html": [
       "<div>\n",
       "<style scoped>\n",
       "    .dataframe tbody tr th:only-of-type {\n",
       "        vertical-align: middle;\n",
       "    }\n",
       "\n",
       "    .dataframe tbody tr th {\n",
       "        vertical-align: top;\n",
       "    }\n",
       "\n",
       "    .dataframe thead th {\n",
       "        text-align: right;\n",
       "    }\n",
       "</style>\n",
       "<table border=\"1\" class=\"dataframe\">\n",
       "  <thead>\n",
       "    <tr style=\"text-align: right;\">\n",
       "      <th></th>\n",
       "      <th>servicio</th>\n",
       "      <th>alimentos</th>\n",
       "    </tr>\n",
       "  </thead>\n",
       "  <tbody>\n",
       "    <tr>\n",
       "      <th>0</th>\n",
       "      <td>Muy insatisfecho</td>\n",
       "      <td>Mala</td>\n",
       "    </tr>\n",
       "    <tr>\n",
       "      <th>1</th>\n",
       "      <td>Insatisfecho</td>\n",
       "      <td>Buena</td>\n",
       "    </tr>\n",
       "    <tr>\n",
       "      <th>2</th>\n",
       "      <td>Neutral</td>\n",
       "      <td>Muy Buena</td>\n",
       "    </tr>\n",
       "    <tr>\n",
       "      <th>3</th>\n",
       "      <td>Satisfecho</td>\n",
       "      <td>Excelente</td>\n",
       "    </tr>\n",
       "    <tr>\n",
       "      <th>4</th>\n",
       "      <td>Muy satisfecho</td>\n",
       "      <td>Mala</td>\n",
       "    </tr>\n",
       "    <tr>\n",
       "      <th>5</th>\n",
       "      <td>Muy insatisfecho</td>\n",
       "      <td>Buena</td>\n",
       "    </tr>\n",
       "  </tbody>\n",
       "</table>\n",
       "</div>"
      ],
      "text/plain": [
       "           servicio  alimentos\n",
       "0  Muy insatisfecho       Mala\n",
       "1      Insatisfecho      Buena\n",
       "2           Neutral  Muy Buena\n",
       "3        Satisfecho  Excelente\n",
       "4    Muy satisfecho       Mala\n",
       "5  Muy insatisfecho      Buena"
      ]
     },
     "execution_count": 18,
     "metadata": {},
     "output_type": "execute_result"
    }
   ],
   "source": [
    "datos=pd.DataFrame(encuesta)\n",
    "datos"
   ]
  },
  {
   "cell_type": "markdown",
   "id": "7eeacf10-d221-4283-ae49-ce625de29315",
   "metadata": {},
   "source": [
    "<h3>Codificador Ordinal</h3>"
   ]
  },
  {
   "cell_type": "code",
   "execution_count": 23,
   "id": "b80be513-f7ee-432e-ba3e-d3ffd6496ea8",
   "metadata": {},
   "outputs": [
    {
     "data": {
      "text/html": [
       "<div>\n",
       "<style scoped>\n",
       "    .dataframe tbody tr th:only-of-type {\n",
       "        vertical-align: middle;\n",
       "    }\n",
       "\n",
       "    .dataframe tbody tr th {\n",
       "        vertical-align: top;\n",
       "    }\n",
       "\n",
       "    .dataframe thead th {\n",
       "        text-align: right;\n",
       "    }\n",
       "</style>\n",
       "<table border=\"1\" class=\"dataframe\">\n",
       "  <thead>\n",
       "    <tr style=\"text-align: right;\">\n",
       "      <th></th>\n",
       "      <th>servicio</th>\n",
       "      <th>alimentos</th>\n",
       "    </tr>\n",
       "  </thead>\n",
       "  <tbody>\n",
       "    <tr>\n",
       "      <th>0</th>\n",
       "      <td>0.0</td>\n",
       "      <td>0.0</td>\n",
       "    </tr>\n",
       "    <tr>\n",
       "      <th>1</th>\n",
       "      <td>1.0</td>\n",
       "      <td>1.0</td>\n",
       "    </tr>\n",
       "    <tr>\n",
       "      <th>2</th>\n",
       "      <td>2.0</td>\n",
       "      <td>2.0</td>\n",
       "    </tr>\n",
       "    <tr>\n",
       "      <th>3</th>\n",
       "      <td>3.0</td>\n",
       "      <td>3.0</td>\n",
       "    </tr>\n",
       "    <tr>\n",
       "      <th>4</th>\n",
       "      <td>4.0</td>\n",
       "      <td>0.0</td>\n",
       "    </tr>\n",
       "    <tr>\n",
       "      <th>5</th>\n",
       "      <td>0.0</td>\n",
       "      <td>1.0</td>\n",
       "    </tr>\n",
       "  </tbody>\n",
       "</table>\n",
       "</div>"
      ],
      "text/plain": [
       "   servicio  alimentos\n",
       "0       0.0        0.0\n",
       "1       1.0        1.0\n",
       "2       2.0        2.0\n",
       "3       3.0        3.0\n",
       "4       4.0        0.0\n",
       "5       0.0        1.0"
      ]
     },
     "execution_count": 23,
     "metadata": {},
     "output_type": "execute_result"
    }
   ],
   "source": [
    "from sklearn.preprocessing import OrdinalEncoder\n",
    "#Creamos y ajustamos el encoder\n",
    "codificador=OrdinalEncoder(categories=[categorias_servicio,categorias_calidad])\n",
    "datos_encoded=codificador.fit_transform(datos)\n",
    "#Convertimos el resultado en un dataframe\n",
    "datos_encoded=pd.DataFrame(datos_encoded,columns=datos.columns)\n",
    "datos_encoded"
   ]
  },
  {
   "cell_type": "code",
   "execution_count": 31,
   "id": "26532ea2-3149-471b-be4a-335c40371066",
   "metadata": {},
   "outputs": [
    {
     "data": {
      "text/plain": [
       "[array(['Muy insatisfecho', 'Insatisfecho', 'Neutral', 'Satisfecho',\n",
       "        'Muy satisfecho'], dtype=object),\n",
       " array(['Mala', 'Buena', 'Muy Buena', 'Excelente'], dtype=object)]"
      ]
     },
     "execution_count": 31,
     "metadata": {},
     "output_type": "execute_result"
    }
   ],
   "source": [
    "codificador.categories_"
   ]
  },
  {
   "cell_type": "code",
   "execution_count": 27,
   "id": "54e21fed-979c-43da-a35a-efc0525c590e",
   "metadata": {},
   "outputs": [
    {
     "name": "stdout",
     "output_type": "stream",
     "text": [
      "   servicio  alimentos\n",
      "0       0.0        0.0\n",
      "1       1.0        1.0\n",
      "2       2.0        2.0\n",
      "3       3.0        3.0\n",
      "4       4.0        0.0\n",
      "5       0.0        1.0\n"
     ]
    }
   ],
   "source": [
    "print(datos_encoded)"
   ]
  },
  {
   "cell_type": "code",
   "execution_count": 30,
   "id": "d4958a92-baa3-4b7c-a141-60d08311488f",
   "metadata": {},
   "outputs": [
    {
     "name": "stdout",
     "output_type": "stream",
     "text": [
      "[array(['Muy insatisfecho', 'Insatisfecho', 'Neutral', 'Satisfecho',\n",
      "       'Muy satisfecho'], dtype=object), array(['Mala', 'Buena', 'Muy Buena', 'Excelente'], dtype=object)]\n"
     ]
    }
   ],
   "source": [
    "print(codificador.categories_)"
   ]
  }
 ],
 "metadata": {
  "kernelspec": {
   "display_name": "Python 3 (ipykernel)",
   "language": "python",
   "name": "python3"
  },
  "language_info": {
   "codemirror_mode": {
    "name": "ipython",
    "version": 3
   },
   "file_extension": ".py",
   "mimetype": "text/x-python",
   "name": "python",
   "nbconvert_exporter": "python",
   "pygments_lexer": "ipython3",
   "version": "3.12.4"
  }
 },
 "nbformat": 4,
 "nbformat_minor": 5
}
