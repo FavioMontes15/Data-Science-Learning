{
 "cells": [
  {
   "cell_type": "markdown",
   "id": "9c805d45-a295-45c0-8e95-d3154b810e87",
   "metadata": {},
   "source": [
    "<h2>Analisis de Componentes Principales (PCA)</h2>"
   ]
  },
  {
   "cell_type": "code",
   "execution_count": 1,
   "id": "344773ee-17a6-4dad-a128-4958f71baa1a",
   "metadata": {},
   "outputs": [],
   "source": [
    "import pandas as pd\n",
    "import numpy as np\n",
    "from sklearn.decomposition import PCA\n",
    "from sklearn.preprocessing import StandardScaler\n",
    "import matplotlib.pyplot as plt"
   ]
  },
  {
   "cell_type": "code",
   "execution_count": 5,
   "id": "8eeddca9-43de-48f5-86e7-a5fa7a9914b4",
   "metadata": {},
   "outputs": [],
   "source": [
    "data=pd.DataFrame({\n",
    "    'edad':np.random.normal(30,5,100),\n",
    "    'ingresos':np.random.normal(3000,800,100),\n",
    "    'gasto_mensual':np.random.normal(1200,300,100),\n",
    "    'puntuacion_credito':np.random.normal(600,100,100)\n",
    "})"
   ]
  },
  {
   "cell_type": "code",
   "execution_count": 9,
   "id": "608b4109-5223-434b-abd2-564c546c6b42",
   "metadata": {},
   "outputs": [
    {
     "data": {
      "text/html": [
       "<div>\n",
       "<style scoped>\n",
       "    .dataframe tbody tr th:only-of-type {\n",
       "        vertical-align: middle;\n",
       "    }\n",
       "\n",
       "    .dataframe tbody tr th {\n",
       "        vertical-align: top;\n",
       "    }\n",
       "\n",
       "    .dataframe thead th {\n",
       "        text-align: right;\n",
       "    }\n",
       "</style>\n",
       "<table border=\"1\" class=\"dataframe\">\n",
       "  <thead>\n",
       "    <tr style=\"text-align: right;\">\n",
       "      <th></th>\n",
       "      <th>edad</th>\n",
       "      <th>ingresos</th>\n",
       "      <th>gasto_mensual</th>\n",
       "      <th>puntuacion_credito</th>\n",
       "    </tr>\n",
       "  </thead>\n",
       "  <tbody>\n",
       "    <tr>\n",
       "      <th>0</th>\n",
       "      <td>25.440578</td>\n",
       "      <td>2328.788354</td>\n",
       "      <td>1136.837591</td>\n",
       "      <td>657.778778</td>\n",
       "    </tr>\n",
       "    <tr>\n",
       "      <th>1</th>\n",
       "      <td>28.109837</td>\n",
       "      <td>2896.923579</td>\n",
       "      <td>1052.904094</td>\n",
       "      <td>551.000808</td>\n",
       "    </tr>\n",
       "    <tr>\n",
       "      <th>2</th>\n",
       "      <td>30.821020</td>\n",
       "      <td>2917.402403</td>\n",
       "      <td>1405.638505</td>\n",
       "      <td>620.701262</td>\n",
       "    </tr>\n",
       "    <tr>\n",
       "      <th>3</th>\n",
       "      <td>34.075695</td>\n",
       "      <td>2150.470635</td>\n",
       "      <td>1124.850715</td>\n",
       "      <td>461.007769</td>\n",
       "    </tr>\n",
       "    <tr>\n",
       "      <th>4</th>\n",
       "      <td>32.720885</td>\n",
       "      <td>2472.845670</td>\n",
       "      <td>1008.917924</td>\n",
       "      <td>730.451529</td>\n",
       "    </tr>\n",
       "    <tr>\n",
       "      <th>...</th>\n",
       "      <td>...</td>\n",
       "      <td>...</td>\n",
       "      <td>...</td>\n",
       "      <td>...</td>\n",
       "    </tr>\n",
       "    <tr>\n",
       "      <th>95</th>\n",
       "      <td>23.258465</td>\n",
       "      <td>1511.025112</td>\n",
       "      <td>1665.224423</td>\n",
       "      <td>598.627534</td>\n",
       "    </tr>\n",
       "    <tr>\n",
       "      <th>96</th>\n",
       "      <td>32.417287</td>\n",
       "      <td>3957.809147</td>\n",
       "      <td>966.282261</td>\n",
       "      <td>557.048073</td>\n",
       "    </tr>\n",
       "    <tr>\n",
       "      <th>97</th>\n",
       "      <td>22.883291</td>\n",
       "      <td>1418.470397</td>\n",
       "      <td>1633.912682</td>\n",
       "      <td>547.786032</td>\n",
       "    </tr>\n",
       "    <tr>\n",
       "      <th>98</th>\n",
       "      <td>26.544145</td>\n",
       "      <td>4119.731225</td>\n",
       "      <td>1572.857039</td>\n",
       "      <td>465.005622</td>\n",
       "    </tr>\n",
       "    <tr>\n",
       "      <th>99</th>\n",
       "      <td>30.997281</td>\n",
       "      <td>3159.940491</td>\n",
       "      <td>1603.109682</td>\n",
       "      <td>752.932299</td>\n",
       "    </tr>\n",
       "  </tbody>\n",
       "</table>\n",
       "<p>100 rows × 4 columns</p>\n",
       "</div>"
      ],
      "text/plain": [
       "         edad     ingresos  gasto_mensual  puntuacion_credito\n",
       "0   25.440578  2328.788354    1136.837591          657.778778\n",
       "1   28.109837  2896.923579    1052.904094          551.000808\n",
       "2   30.821020  2917.402403    1405.638505          620.701262\n",
       "3   34.075695  2150.470635    1124.850715          461.007769\n",
       "4   32.720885  2472.845670    1008.917924          730.451529\n",
       "..        ...          ...            ...                 ...\n",
       "95  23.258465  1511.025112    1665.224423          598.627534\n",
       "96  32.417287  3957.809147     966.282261          557.048073\n",
       "97  22.883291  1418.470397    1633.912682          547.786032\n",
       "98  26.544145  4119.731225    1572.857039          465.005622\n",
       "99  30.997281  3159.940491    1603.109682          752.932299\n",
       "\n",
       "[100 rows x 4 columns]"
      ]
     },
     "execution_count": 9,
     "metadata": {},
     "output_type": "execute_result"
    }
   ],
   "source": [
    "data"
   ]
  },
  {
   "cell_type": "markdown",
   "id": "5b67f90c-d228-4428-bc82-6e89c39c8b75",
   "metadata": {},
   "source": [
    "<h3>Estandarizamos los datos</h3>"
   ]
  },
  {
   "cell_type": "code",
   "execution_count": 10,
   "id": "f361197c-558b-4498-9177-a192e9260410",
   "metadata": {},
   "outputs": [],
   "source": [
    "scaler=StandardScaler()\n",
    "data_scaled=scaler.fit_transform(data)"
   ]
  },
  {
   "cell_type": "code",
   "execution_count": 13,
   "id": "2f1c1158-8a73-4761-92cf-c2834535f650",
   "metadata": {
    "scrolled": true
   },
   "outputs": [
    {
     "data": {
      "text/plain": [
       "array([[-0.91526892, -0.85222963, -0.3744805 ,  0.40866588],\n",
       "       [-0.35195361, -0.14934062, -0.66199036, -0.6301362 ],\n",
       "       [ 0.22020951, -0.1240045 ,  0.54628316,  0.0479529 ],\n",
       "       [ 0.90707002, -1.07284183, -0.41554092, -1.50564411],\n",
       "       [ 0.62115336, -0.67400392, -0.81266271,  1.11567132],\n",
       "       [ 0.2120394 , -0.76773099, -0.66134012, -0.80942669],\n",
       "       [-0.00797909,  0.4592735 , -0.36102646,  0.3786459 ],\n",
       "       [ 0.21661222,  0.99359537, -0.15681386,  0.79853835],\n",
       "       [ 1.57595145,  0.77740196, -1.10216486, -1.78212745],\n",
       "       [ 0.81281952, -0.16796508, -0.82546759, -0.86919587],\n",
       "       [ 1.58179762, -0.21114265, -1.57967281,  0.01941961],\n",
       "       [ 1.33500563, -1.02265173,  1.4507009 , -0.36112938],\n",
       "       [-2.47664524,  0.18065519, -1.14913116, -0.39807468],\n",
       "       [ 0.68383498, -0.59479294, -0.81099806, -0.31035922],\n",
       "       [-0.60644026,  1.30750714, -1.22641758,  0.29829927],\n",
       "       [-1.30952561,  1.55921016, -2.02009797, -0.34102881],\n",
       "       [-1.01539052,  0.24317075,  2.56309109,  0.5488354 ],\n",
       "       [ 0.38138393, -0.08585237, -0.07874405,  0.07947047],\n",
       "       [-1.38901407,  0.38890217,  0.6587819 ,  0.11131638],\n",
       "       [ 0.70382039, -0.47436891, -1.18220073, -0.01429669],\n",
       "       [-1.26830371, -1.64246841, -0.45408162, -0.10226618],\n",
       "       [-1.62428167,  0.09191348,  1.50970332,  0.62779439],\n",
       "       [-0.84629946, -1.56220265,  0.90621161,  0.36970207],\n",
       "       [-0.17868645,  1.27822351,  0.12699389,  2.07883812],\n",
       "       [ 0.33018454,  1.20712733,  0.79317722, -0.4250851 ],\n",
       "       [-0.07593343, -1.1982809 , -0.26534068, -1.27442057],\n",
       "       [-1.49170983,  0.77064434,  0.20529439, -1.19726456],\n",
       "       [ 0.51142865,  1.97286935, -0.32095316, -1.09679151],\n",
       "       [ 0.61463345,  0.2534077 ,  0.51287611, -1.19970005],\n",
       "       [ 0.34014838,  1.04162011,  1.02737818, -0.74705629],\n",
       "       [-0.91268762,  0.23570528, -0.03960788,  0.74714968],\n",
       "       [ 0.99065402, -0.3326307 ,  0.53155969, -0.04378146],\n",
       "       [-0.14402802, -1.37515851, -0.77547133, -1.4094902 ],\n",
       "       [-1.2570522 , -0.27483295,  0.4747952 ,  1.69214279],\n",
       "       [ 1.18887681, -1.11864522,  1.95270359,  0.86038129],\n",
       "       [-0.67613067,  0.26681084, -0.96779036, -0.30192909],\n",
       "       [ 0.38433137,  1.15398792, -0.67836114, -0.31421898],\n",
       "       [ 0.50004612,  1.52345645, -0.39173978,  0.15313249],\n",
       "       [ 0.42227   , -0.28077374, -0.72662252,  0.50811711],\n",
       "       [ 1.71316045,  0.06824231,  2.41247141,  1.45227915],\n",
       "       [ 0.98000643, -1.99348789, -0.58307811,  1.30128851],\n",
       "       [ 0.94996395, -0.71956632,  0.15882283, -0.82375828],\n",
       "       [ 0.3286452 ,  0.8524789 ,  0.18572934,  0.16346016],\n",
       "       [-0.73371164,  0.75559905,  0.28252995, -0.39407614],\n",
       "       [-0.10292753,  0.96160815,  0.62326564, -0.64678563],\n",
       "       [ 1.95152693, -1.09307751, -0.0278131 ,  2.15244066],\n",
       "       [ 0.90799686,  0.02872278,  1.24146139,  0.64018215],\n",
       "       [ 0.25132938, -0.77655179, -0.61376553, -1.10690514],\n",
       "       [-1.6555535 , -0.98902789,  2.15589285, -0.09702305],\n",
       "       [-1.50708615, -1.38203639,  0.33293137, -1.35526525],\n",
       "       [ 0.49756956,  1.08454115, -1.17591305,  0.90732987],\n",
       "       [ 0.75948285,  1.03146226, -0.59584372,  0.32143695],\n",
       "       [ 0.06131112, -0.04139552,  0.35437234,  0.00317572],\n",
       "       [ 0.1696145 ,  0.08646815,  0.04800521, -0.09046654],\n",
       "       [-0.48544869,  1.26685785,  0.09941599,  1.10795149],\n",
       "       [-1.0438329 ,  0.94004161,  0.16914632,  0.75414192],\n",
       "       [ 0.46367411, -0.52083572,  1.01010133, -0.36363326],\n",
       "       [ 1.10859714,  0.42205177, -0.05686176,  1.76057472],\n",
       "       [-1.95692489,  0.07811251,  0.66200957,  0.57512548],\n",
       "       [-0.19566226,  0.10335526, -0.40236946,  1.60807491],\n",
       "       [ 1.54552456, -1.19979739,  0.16170335, -1.44910092],\n",
       "       [ 0.36042645, -0.68276415, -1.09929739, -0.55589088],\n",
       "       [-1.28453168,  0.37688816,  0.35014239,  0.00763404],\n",
       "       [ 0.66833325, -1.91623759,  0.43806778, -0.38649681],\n",
       "       [-0.10298878, -0.53091625,  0.6398092 ,  1.00900609],\n",
       "       [ 0.45146867, -0.88349115, -0.07402473,  1.96793272],\n",
       "       [ 0.50668494,  2.26033273, -0.21588548, -0.89316235],\n",
       "       [ 0.31843033, -1.09003476, -0.35097472,  0.30978741],\n",
       "       [-1.22128951,  0.36187223,  0.71216908, -2.1233242 ],\n",
       "       [ 0.0501284 , -0.50198559,  1.52212794, -0.0125097 ],\n",
       "       [-1.85227937, -0.76479689,  1.87470888,  0.26095772],\n",
       "       [-0.54207998,  0.62860933,  0.28563454,  1.15843972],\n",
       "       [-1.1463634 ,  0.10963349, -0.09062903, -0.90950182],\n",
       "       [-0.62080094, -1.45612261, -1.41370429,  0.8687614 ],\n",
       "       [ 1.44213143,  1.58939527, -1.64534588,  1.39810741],\n",
       "       [ 0.06550408,  1.40896734,  0.41894035, -2.22634622],\n",
       "       [ 2.46388037,  0.15688712,  0.18299422, -2.77947208],\n",
       "       [ 0.75457324, -0.22111106, -1.43654423, -0.00975306],\n",
       "       [ 0.36580624, -1.08590244, -0.95290794, -0.99948549],\n",
       "       [ 1.61278281,  2.38940377,  1.33449688,  1.54827069],\n",
       "       [-0.37670683,  0.41960621,  0.26187409, -0.76227836],\n",
       "       [-0.01877042,  0.49221156,  1.42602157, -0.20273731],\n",
       "       [-0.20560168, -0.9908528 ,  0.36962485,  0.66131514],\n",
       "       [-1.3383594 ,  1.61810088, -0.9446941 ,  0.58856112],\n",
       "       [-0.89176833, -0.58111343,  1.33488237, -0.11246927],\n",
       "       [-0.4391894 , -1.00714473, -1.88626568,  0.73537088],\n",
       "       [-0.08004448, -0.72809552,  0.14352327,  1.13250134],\n",
       "       [ 1.21444361, -0.39399683, -0.30444584, -0.81165564],\n",
       "       [ 0.07429917, -0.30329628, -0.30195212,  0.45189151],\n",
       "       [ 1.53410174,  0.06879707, -1.63143177,  1.08003397],\n",
       "       [ 0.77105217,  0.79854202, -1.93701232, -0.38746256],\n",
       "       [-1.17083738, -1.33545347,  0.27357268,  1.42177525],\n",
       "       [ 1.39107366, -0.10876387, -1.0828892 , -0.2385054 ],\n",
       "       [-1.29424626,  1.12145542, -1.94638061,  0.09197246],\n",
       "       [-0.75484274,  1.23373197, -0.06403997, -1.88048303],\n",
       "       [-1.37577812, -1.86395495,  1.43548131, -0.16679398],\n",
       "       [ 0.55708273,  1.16317227, -0.95870897, -0.57130467],\n",
       "       [-1.45495406, -1.97846236,  1.32822456, -0.66141153],\n",
       "       [-0.68237424,  1.36350002,  1.11908161, -1.46675052],\n",
       "       [ 0.25740723,  0.17606025,  1.22271047,  1.33437815]])"
      ]
     },
     "execution_count": 13,
     "metadata": {},
     "output_type": "execute_result"
    }
   ],
   "source": [
    "data_scaled"
   ]
  },
  {
   "cell_type": "code",
   "execution_count": 14,
   "id": "297154ac-9d39-4fc9-8610-0e02ebb1ed44",
   "metadata": {},
   "outputs": [],
   "source": [
    "pca=PCA(n_components=2) #Lo reduciremos a 2 dimensiones\n",
    "pca_resultado=pca.fit_transform(data_scaled)\n",
    "\n",
    "pca_df=pd.DataFrame(pca_resultado,columns=['Componente 1', 'Componente 2'])"
   ]
  },
  {
   "cell_type": "code",
   "execution_count": 17,
   "id": "4a4d8a4e-f65b-40dd-be99-e18cb31a1c66",
   "metadata": {},
   "outputs": [
    {
     "data": {
      "image/png": "[encoded data removed]",
      "text/plain": [
       "<Figure size 800x600 with 1 Axes>"
      ]
     },
     "metadata": {},
     "output_type": "display_data"
    }
   ],
   "source": [
    "plt.figure(figsize=(8,6))\n",
    "plt.scatter(pca_df['Componente 1'],pca_df['Componente 2'],alpha=0.7)\n",
    "plt.xlabel('Componente Principal 1')\n",
    "plt.ylabel('Componente Principal 2')\n",
    "plt.title('Reduccion de dimensionalidad PCA')\n",
    "plt.grid(True)\n",
    "plt.show()"
   ]
  },
  {
   "cell_type": "code",
   "execution_count": null,
   "id": "df85ccbc-50a2-4a38-8307-a6a5c837841e",
   "metadata": {},
   "outputs": [],
   "source": []
  },
  {
   "cell_type": "code",
   "execution_count": null,
   "id": "f6f77854-549d-4742-b268-503f80fdb170",
   "metadata": {},
   "outputs": [],
   "source": []
  }
 ],
 "metadata": {
  "kernelspec": {
   "display_name": "Python 3 (ipykernel)",
   "language": "python",
   "name": "python3"
  },
  "language_info": {
   "codemirror_mode": {
    "name": "ipython",
    "version": 3
   },
   "file_extension": ".py",
   "mimetype": "text/x-python",
   "name": "python",
   "nbconvert_exporter": "python",
   "pygments_lexer": "ipython3",
   "version": "3.12.4"
  }
 },
 "nbformat": 4,
 "nbformat_minor": 5
}
